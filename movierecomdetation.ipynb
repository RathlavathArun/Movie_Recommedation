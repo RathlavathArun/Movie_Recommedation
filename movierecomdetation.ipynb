{
 "cells": [
  {
   "cell_type": "code",
   "execution_count": 44,
   "id": "91352afb-23f7-4cbd-ba03-de48bf197770",
   "metadata": {},
   "outputs": [],
   "source": [
    "import pandas as pd\n",
    "import numpy as np\n",
    "from scipy.sparse import csr_matrix\n",
    "from sklearn.neighbors import NearestNeighbors\n",
    "from difflib import get_close_matches"
   ]
  },
  {
   "cell_type": "code",
   "execution_count": 45,
   "id": "349ecb23-1ca8-47bf-8146-20c92565fe6e",
   "metadata": {},
   "outputs": [],
   "source": [
    "movies = pd.read_csv('movies.csv')\n",
    "ratings = pd.read_csv('ratings.csv')"
   ]
  },
  {
   "cell_type": "code",
   "execution_count": 46,
   "id": "78c12578-944c-4b83-aeff-007a73ac9316",
   "metadata": {},
   "outputs": [
    {
     "data": {
      "text/html": [
       "<div>\n",
       "<style scoped>\n",
       "    .dataframe tbody tr th:only-of-type {\n",
       "        vertical-align: middle;\n",
       "    }\n",
       "\n",
       "    .dataframe tbody tr th {\n",
       "        vertical-align: top;\n",
       "    }\n",
       "\n",
       "    .dataframe thead th {\n",
       "        text-align: right;\n",
       "    }\n",
       "</style>\n",
       "<table border=\"1\" class=\"dataframe\">\n",
       "  <thead>\n",
       "    <tr style=\"text-align: right;\">\n",
       "      <th></th>\n",
       "      <th>movieId</th>\n",
       "      <th>title</th>\n",
       "      <th>genres</th>\n",
       "    </tr>\n",
       "  </thead>\n",
       "  <tbody>\n",
       "    <tr>\n",
       "      <th>0</th>\n",
       "      <td>1</td>\n",
       "      <td>Toy Story (1995)</td>\n",
       "      <td>Adventure|Animation|Children|Comedy|Fantasy</td>\n",
       "    </tr>\n",
       "    <tr>\n",
       "      <th>1</th>\n",
       "      <td>2</td>\n",
       "      <td>Jumanji (1995)</td>\n",
       "      <td>Adventure|Children|Fantasy</td>\n",
       "    </tr>\n",
       "    <tr>\n",
       "      <th>2</th>\n",
       "      <td>3</td>\n",
       "      <td>Grumpier Old Men (1995)</td>\n",
       "      <td>Comedy|Romance</td>\n",
       "    </tr>\n",
       "    <tr>\n",
       "      <th>3</th>\n",
       "      <td>4</td>\n",
       "      <td>Waiting to Exhale (1995)</td>\n",
       "      <td>Comedy|Drama|Romance</td>\n",
       "    </tr>\n",
       "    <tr>\n",
       "      <th>4</th>\n",
       "      <td>5</td>\n",
       "      <td>Father of the Bride Part II (1995)</td>\n",
       "      <td>Comedy</td>\n",
       "    </tr>\n",
       "    <tr>\n",
       "      <th>...</th>\n",
       "      <td>...</td>\n",
       "      <td>...</td>\n",
       "      <td>...</td>\n",
       "    </tr>\n",
       "    <tr>\n",
       "      <th>9737</th>\n",
       "      <td>193581</td>\n",
       "      <td>Black Butler: Book of the Atlantic (2017)</td>\n",
       "      <td>Action|Animation|Comedy|Fantasy</td>\n",
       "    </tr>\n",
       "    <tr>\n",
       "      <th>9738</th>\n",
       "      <td>193583</td>\n",
       "      <td>No Game No Life: Zero (2017)</td>\n",
       "      <td>Animation|Comedy|Fantasy</td>\n",
       "    </tr>\n",
       "    <tr>\n",
       "      <th>9739</th>\n",
       "      <td>193585</td>\n",
       "      <td>Flint (2017)</td>\n",
       "      <td>Drama</td>\n",
       "    </tr>\n",
       "    <tr>\n",
       "      <th>9740</th>\n",
       "      <td>193587</td>\n",
       "      <td>Bungo Stray Dogs: Dead Apple (2018)</td>\n",
       "      <td>Action|Animation</td>\n",
       "    </tr>\n",
       "    <tr>\n",
       "      <th>9741</th>\n",
       "      <td>193609</td>\n",
       "      <td>Andrew Dice Clay: Dice Rules (1991)</td>\n",
       "      <td>Comedy</td>\n",
       "    </tr>\n",
       "  </tbody>\n",
       "</table>\n",
       "<p>9742 rows × 3 columns</p>\n",
       "</div>"
      ],
      "text/plain": [
       "      movieId                                      title  \\\n",
       "0           1                           Toy Story (1995)   \n",
       "1           2                             Jumanji (1995)   \n",
       "2           3                    Grumpier Old Men (1995)   \n",
       "3           4                   Waiting to Exhale (1995)   \n",
       "4           5         Father of the Bride Part II (1995)   \n",
       "...       ...                                        ...   \n",
       "9737   193581  Black Butler: Book of the Atlantic (2017)   \n",
       "9738   193583               No Game No Life: Zero (2017)   \n",
       "9739   193585                               Flint (2017)   \n",
       "9740   193587        Bungo Stray Dogs: Dead Apple (2018)   \n",
       "9741   193609        Andrew Dice Clay: Dice Rules (1991)   \n",
       "\n",
       "                                           genres  \n",
       "0     Adventure|Animation|Children|Comedy|Fantasy  \n",
       "1                      Adventure|Children|Fantasy  \n",
       "2                                  Comedy|Romance  \n",
       "3                            Comedy|Drama|Romance  \n",
       "4                                          Comedy  \n",
       "...                                           ...  \n",
       "9737              Action|Animation|Comedy|Fantasy  \n",
       "9738                     Animation|Comedy|Fantasy  \n",
       "9739                                        Drama  \n",
       "9740                             Action|Animation  \n",
       "9741                                       Comedy  \n",
       "\n",
       "[9742 rows x 3 columns]"
      ]
     },
     "execution_count": 46,
     "metadata": {},
     "output_type": "execute_result"
    }
   ],
   "source": [
    "movies"
   ]
  },
  {
   "cell_type": "code",
   "execution_count": 47,
   "id": "b4ac304d-3a51-4a12-886e-14c1662ce1a0",
   "metadata": {},
   "outputs": [
    {
     "data": {
      "text/html": [
       "<div>\n",
       "<style scoped>\n",
       "    .dataframe tbody tr th:only-of-type {\n",
       "        vertical-align: middle;\n",
       "    }\n",
       "\n",
       "    .dataframe tbody tr th {\n",
       "        vertical-align: top;\n",
       "    }\n",
       "\n",
       "    .dataframe thead th {\n",
       "        text-align: right;\n",
       "    }\n",
       "</style>\n",
       "<table border=\"1\" class=\"dataframe\">\n",
       "  <thead>\n",
       "    <tr style=\"text-align: right;\">\n",
       "      <th></th>\n",
       "      <th>userId</th>\n",
       "      <th>movieId</th>\n",
       "      <th>rating</th>\n",
       "      <th>timestamp</th>\n",
       "    </tr>\n",
       "  </thead>\n",
       "  <tbody>\n",
       "    <tr>\n",
       "      <th>0</th>\n",
       "      <td>1</td>\n",
       "      <td>1</td>\n",
       "      <td>4.0</td>\n",
       "      <td>964982703</td>\n",
       "    </tr>\n",
       "    <tr>\n",
       "      <th>1</th>\n",
       "      <td>1</td>\n",
       "      <td>3</td>\n",
       "      <td>4.0</td>\n",
       "      <td>964981247</td>\n",
       "    </tr>\n",
       "    <tr>\n",
       "      <th>2</th>\n",
       "      <td>1</td>\n",
       "      <td>6</td>\n",
       "      <td>4.0</td>\n",
       "      <td>964982224</td>\n",
       "    </tr>\n",
       "    <tr>\n",
       "      <th>3</th>\n",
       "      <td>1</td>\n",
       "      <td>47</td>\n",
       "      <td>5.0</td>\n",
       "      <td>964983815</td>\n",
       "    </tr>\n",
       "    <tr>\n",
       "      <th>4</th>\n",
       "      <td>1</td>\n",
       "      <td>50</td>\n",
       "      <td>5.0</td>\n",
       "      <td>964982931</td>\n",
       "    </tr>\n",
       "    <tr>\n",
       "      <th>...</th>\n",
       "      <td>...</td>\n",
       "      <td>...</td>\n",
       "      <td>...</td>\n",
       "      <td>...</td>\n",
       "    </tr>\n",
       "    <tr>\n",
       "      <th>100831</th>\n",
       "      <td>610</td>\n",
       "      <td>166534</td>\n",
       "      <td>4.0</td>\n",
       "      <td>1493848402</td>\n",
       "    </tr>\n",
       "    <tr>\n",
       "      <th>100832</th>\n",
       "      <td>610</td>\n",
       "      <td>168248</td>\n",
       "      <td>5.0</td>\n",
       "      <td>1493850091</td>\n",
       "    </tr>\n",
       "    <tr>\n",
       "      <th>100833</th>\n",
       "      <td>610</td>\n",
       "      <td>168250</td>\n",
       "      <td>5.0</td>\n",
       "      <td>1494273047</td>\n",
       "    </tr>\n",
       "    <tr>\n",
       "      <th>100834</th>\n",
       "      <td>610</td>\n",
       "      <td>168252</td>\n",
       "      <td>5.0</td>\n",
       "      <td>1493846352</td>\n",
       "    </tr>\n",
       "    <tr>\n",
       "      <th>100835</th>\n",
       "      <td>610</td>\n",
       "      <td>170875</td>\n",
       "      <td>3.0</td>\n",
       "      <td>1493846415</td>\n",
       "    </tr>\n",
       "  </tbody>\n",
       "</table>\n",
       "<p>100836 rows × 4 columns</p>\n",
       "</div>"
      ],
      "text/plain": [
       "        userId  movieId  rating   timestamp\n",
       "0            1        1     4.0   964982703\n",
       "1            1        3     4.0   964981247\n",
       "2            1        6     4.0   964982224\n",
       "3            1       47     5.0   964983815\n",
       "4            1       50     5.0   964982931\n",
       "...        ...      ...     ...         ...\n",
       "100831     610   166534     4.0  1493848402\n",
       "100832     610   168248     5.0  1493850091\n",
       "100833     610   168250     5.0  1494273047\n",
       "100834     610   168252     5.0  1493846352\n",
       "100835     610   170875     3.0  1493846415\n",
       "\n",
       "[100836 rows x 4 columns]"
      ]
     },
     "execution_count": 47,
     "metadata": {},
     "output_type": "execute_result"
    }
   ],
   "source": [
    "ratings"
   ]
  },
  {
   "cell_type": "code",
   "execution_count": 48,
   "id": "315f65d1-afbb-4494-9333-e8dffb4a13c3",
   "metadata": {},
   "outputs": [
    {
     "name": "stdout",
     "output_type": "stream",
     "text": [
      "\n",
      "--- First 5 rows of the dataset ---\n",
      "   movieId                               title  \\\n",
      "0        1                    Toy Story (1995)   \n",
      "1        2                      Jumanji (1995)   \n",
      "2        3             Grumpier Old Men (1995)   \n",
      "3        4            Waiting to Exhale (1995)   \n",
      "4        5  Father of the Bride Part II (1995)   \n",
      "\n",
      "                                        genres  \n",
      "0  Adventure|Animation|Children|Comedy|Fantasy  \n",
      "1                   Adventure|Children|Fantasy  \n",
      "2                               Comedy|Romance  \n",
      "3                         Comedy|Drama|Romance  \n",
      "4                                       Comedy  \n"
     ]
    }
   ],
   "source": [
    "print(\"\\n--- First 5 rows of the dataset ---\")\n",
    "print(movies.head())"
   ]
  },
  {
   "cell_type": "code",
   "execution_count": 49,
   "id": "e984f8e0-e49f-48b6-a4cd-3554fcdb7007",
   "metadata": {},
   "outputs": [
    {
     "name": "stdout",
     "output_type": "stream",
     "text": [
      "\n",
      "--- Dataset Info ---\n",
      "<class 'pandas.core.frame.DataFrame'>\n",
      "RangeIndex: 9742 entries, 0 to 9741\n",
      "Data columns (total 3 columns):\n",
      " #   Column   Non-Null Count  Dtype \n",
      "---  ------   --------------  ----- \n",
      " 0   movieId  9742 non-null   int64 \n",
      " 1   title    9742 non-null   object\n",
      " 2   genres   9742 non-null   object\n",
      "dtypes: int64(1), object(2)\n",
      "memory usage: 228.5+ KB\n",
      "None\n"
     ]
    }
   ],
   "source": [
    "print(\"\\n--- Dataset Info ---\")\n",
    "print(movies.info())"
   ]
  },
  {
   "cell_type": "code",
   "execution_count": 50,
   "id": "7a89534d-ed59-4845-8421-344843149a25",
   "metadata": {},
   "outputs": [
    {
     "name": "stdout",
     "output_type": "stream",
     "text": [
      "\n",
      "--- Missing values in dataset ---\n",
      "movieId    0\n",
      "title      0\n",
      "genres     0\n",
      "dtype: int64\n"
     ]
    }
   ],
   "source": [
    "print(\"\\n--- Missing values in dataset ---\")\n",
    "print(movies.isnull().sum())"
   ]
  },
  {
   "cell_type": "code",
   "execution_count": 51,
   "id": "74e4e451-e2af-4746-bf93-ed6517acfe0a",
   "metadata": {},
   "outputs": [
    {
     "name": "stdout",
     "output_type": "stream",
     "text": [
      "\n",
      "--- First 5 rows of the dataset ---\n",
      "   userId  movieId  rating  timestamp\n",
      "0       1        1     4.0  964982703\n",
      "1       1        3     4.0  964981247\n",
      "2       1        6     4.0  964982224\n",
      "3       1       47     5.0  964983815\n",
      "4       1       50     5.0  964982931\n"
     ]
    }
   ],
   "source": [
    "print(\"\\n--- First 5 rows of the dataset ---\")\n",
    "print(ratings.head())"
   ]
  },
  {
   "cell_type": "code",
   "execution_count": 52,
   "id": "b9d81288-9f06-4324-978b-822dce8f7655",
   "metadata": {},
   "outputs": [
    {
     "name": "stdout",
     "output_type": "stream",
     "text": [
      "\n",
      "--- Dataset Info ---\n",
      "<class 'pandas.core.frame.DataFrame'>\n",
      "RangeIndex: 100836 entries, 0 to 100835\n",
      "Data columns (total 4 columns):\n",
      " #   Column     Non-Null Count   Dtype  \n",
      "---  ------     --------------   -----  \n",
      " 0   userId     100836 non-null  int64  \n",
      " 1   movieId    100836 non-null  int64  \n",
      " 2   rating     100836 non-null  float64\n",
      " 3   timestamp  100836 non-null  int64  \n",
      "dtypes: float64(1), int64(3)\n",
      "memory usage: 3.1 MB\n",
      "None\n"
     ]
    }
   ],
   "source": [
    "print(\"\\n--- Dataset Info ---\")\n",
    "print(ratings.info())"
   ]
  },
  {
   "cell_type": "code",
   "execution_count": 53,
   "id": "6f8236b4-b683-4f56-b01b-bdb58af379d7",
   "metadata": {},
   "outputs": [
    {
     "name": "stdout",
     "output_type": "stream",
     "text": [
      "\n",
      "--- Missing values in dataset ---\n",
      "userId       0\n",
      "movieId      0\n",
      "rating       0\n",
      "timestamp    0\n",
      "dtype: int64\n"
     ]
    }
   ],
   "source": [
    "print(\"\\n--- Missing values in dataset ---\")\n",
    "print(ratings.isnull().sum())"
   ]
  },
  {
   "cell_type": "code",
   "execution_count": 54,
   "id": "8b1355d4-f567-4b8d-8a56-23bfbe29548f",
   "metadata": {},
   "outputs": [
    {
     "data": {
      "image/png": "[encoded data removed]",
      "text/plain": [
       "<Figure size 1000x800 with 1 Axes>"
      ]
     },
     "metadata": {},
     "output_type": "display_data"
    }
   ],
   "source": [
    "import matplotlib.pyplot as plt\n",
    "\n",
    "# Histogram of ratings count\n",
    "rating_counts = movie_data.groupby('title')['rating'].count()\n",
    "rating_counts.sort_values(ascending=False).head(20).plot(kind='barh', figsize=(10, 8), color='skyblue')\n",
    "plt.xlabel(\"Number of Ratings\")\n",
    "plt.title(\"Top 20 Most Rated Movies\")\n",
    "plt.gca().invert_yaxis()\n",
    "plt.tight_layout()\n",
    "plt.show()\n"
   ]
  },
  {
   "cell_type": "code",
   "execution_count": 55,
   "id": "b1589e51-c716-4733-ac10-42d968714d3b",
   "metadata": {},
   "outputs": [],
   "source": [
    "# Merge datasets\n",
    "movie_data = pd.merge(ratings, movies, on='movieId')\n",
    "\n",
    "# Create pivot table (rows: users, columns: movies)\n",
    "pivot_table = movie_data.pivot_table(index='userId', columns='title', values='rating')\n",
    "\n",
    "# Fill NaNs with 0s\n",
    "movie_matrix = pivot_table.fillna(0)\n",
    "\n",
    "# Transpose to get movies as rows (for KNN)\n",
    "movie_sparse = csr_matrix(movie_matrix.T.values)\n",
    "\n",
    "# Build KNN model\n",
    "model = NearestNeighbors(metric='cosine', algorithm='brute')\n",
    "model.fit(movie_sparse)\n",
    "\n",
    "# List of movie titles\n",
    "movie_titles = list(movie_matrix.columns)\n"
   ]
  },
  {
   "cell_type": "code",
   "execution_count": 56,
   "id": "ab751de0-4381-42dd-add0-ccac71a76ed2",
   "metadata": {},
   "outputs": [],
   "source": [
    "def recommend_movies(input_movie, k=5):\n",
    "    matches = get_close_matches(input_movie, movie_titles, n=1)\n",
    "    if not matches:\n",
    "        return f\"❌ Movie '{input_movie}' not found in database.\"\n",
    "\n",
    "    movie = matches[0]\n",
    "    print(f\"🎬 Closest match found: {movie}\")\n",
    "\n",
    "    index = movie_titles.index(movie)\n",
    "    distances, indices = model.kneighbors(movie_sparse[index], n_neighbors=k+1)\n",
    "\n",
    "    print(f\"\\n📌 Top {k} movies similar to '{movie}':\")\n",
    "    for i in range(1, k+1):\n",
    "        print(f\"{i}. {movie_titles[indices[0][i]]} (Score: {1 - distances[0][i]:.2f})\")"
   ]
  },
  {
   "cell_type": "code",
   "execution_count": 64,
   "id": "a0f782f0-18fa-4a42-a33d-b5fcd84bfdd1",
   "metadata": {},
   "outputs": [
    {
     "name": "stdin",
     "output_type": "stream",
     "text": [
      "\n",
      "🎥 Enter a movie name (or type 'exit' to quit):  Titanic\n"
     ]
    },
    {
     "name": "stdout",
     "output_type": "stream",
     "text": [
      "🎬 Closest match found: Titanic (1997)\n",
      "\n",
      "📌 Top 10 movies similar to 'Titanic (1997)':\n",
      "1. Men in Black (a.k.a. MIB) (1997) (Score: 0.55)\n",
      "2. Star Wars: Episode I - The Phantom Menace (1999) (Score: 0.52)\n",
      "3. Saving Private Ryan (1998) (Score: 0.51)\n",
      "4. Shrek (2001) (Score: 0.51)\n",
      "5. Catch Me If You Can (2002) (Score: 0.50)\n",
      "6. Sixth Sense, The (1999) (Score: 0.49)\n",
      "7. Truman Show, The (1998) (Score: 0.49)\n",
      "8. Finding Nemo (2003) (Score: 0.49)\n",
      "9. Good Will Hunting (1997) (Score: 0.49)\n",
      "10. Pirates of the Caribbean: The Curse of the Black Pearl (2003) (Score: 0.48)\n"
     ]
    },
    {
     "name": "stdin",
     "output_type": "stream",
     "text": [
      "\n",
      "🎥 Enter a movie name (or type 'exit' to quit):  Captain\n",
      "\n",
      "🎥 Enter a movie name (or type 'exit' to quit):  Captain America\n"
     ]
    },
    {
     "name": "stdout",
     "output_type": "stream",
     "text": [
      "🎬 Closest match found: Captain America (1990)\n",
      "\n",
      "📌 Top 10 movies similar to 'Captain America (1990)':\n",
      "1. Hardware (1990) (Score: 0.97)\n",
      "2. Killshot (2008) (Score: 0.97)\n",
      "3. Jack the Bear (1993) (Score: 0.97)\n",
      "4. Janie Jones (2010) (Score: 0.97)\n",
      "5. Karate Bullfighter (1975) (Score: 0.97)\n",
      "6. Ernest Rides Again (1993) (Score: 0.97)\n",
      "7. Pusher III: I'm the Angel of Death (2005) (Score: 0.97)\n",
      "8. Pusher II: With Blood on My Hands (2004) (Score: 0.97)\n",
      "9. Pusher (1996) (Score: 0.97)\n",
      "10. Purgatory (1999) (Score: 0.97)\n"
     ]
    },
    {
     "name": "stdin",
     "output_type": "stream",
     "text": [
      "\n",
      "🎥 Enter a movie name (or type 'exit' to quit):  Game of thrones\n",
      "\n",
      "🎥 Enter a movie name (or type 'exit' to quit):  Anabella\n",
      "\n",
      "🎥 Enter a movie name (or type 'exit' to quit):  Mufasa\n",
      "\n",
      "🎥 Enter a movie name (or type 'exit' to quit):  MUFASA\n",
      "\n",
      "🎥 Enter a movie name (or type 'exit' to quit):  Gladiatot\n"
     ]
    },
    {
     "name": "stdout",
     "output_type": "stream",
     "text": [
      "🎬 Closest match found: Gladiator (2000)\n",
      "\n",
      "📌 Top 10 movies similar to 'Gladiator (2000)':\n",
      "1. Matrix, The (1999) (Score: 0.63)\n",
      "2. Lord of the Rings: The Fellowship of the Ring, The (2001) (Score: 0.62)\n",
      "3. Bourne Identity, The (2002) (Score: 0.60)\n",
      "4. Saving Private Ryan (1998) (Score: 0.58)\n",
      "5. Lord of the Rings: The Two Towers, The (2002) (Score: 0.58)\n",
      "6. Fight Club (1999) (Score: 0.58)\n",
      "7. Lord of the Rings: The Return of the King, The (2003) (Score: 0.58)\n",
      "8. Ocean's Eleven (2001) (Score: 0.58)\n",
      "9. X-Men (2000) (Score: 0.57)\n",
      "10. Sixth Sense, The (1999) (Score: 0.57)\n"
     ]
    },
    {
     "name": "stdin",
     "output_type": "stream",
     "text": [
      "\n",
      "🎥 Enter a movie name (or type 'exit' to quit):  Indian Jones\n",
      "\n",
      "🎥 Enter a movie name (or type 'exit' to quit):  The Wolf of wall street\n"
     ]
    },
    {
     "name": "stdout",
     "output_type": "stream",
     "text": [
      "🎬 Closest match found: Wolf of Wall Street, The (2013)\n",
      "\n",
      "📌 Top 10 movies similar to 'Wolf of Wall Street, The (2013)':\n",
      "1. Django Unchained (2012) (Score: 0.56)\n",
      "2. Dark Knight Rises, The (2012) (Score: 0.54)\n",
      "3. Shutter Island (2010) (Score: 0.54)\n",
      "4. Mad Max: Fury Road (2015) (Score: 0.52)\n",
      "5. Deadpool (2016) (Score: 0.52)\n",
      "6. The Martian (2015) (Score: 0.52)\n",
      "7. Her (2013) (Score: 0.51)\n",
      "8. Big Short, The (2015) (Score: 0.49)\n",
      "9. Girl with the Dragon Tattoo, The (2011) (Score: 0.49)\n",
      "10. Ex Machina (2015) (Score: 0.49)\n"
     ]
    },
    {
     "name": "stdin",
     "output_type": "stream",
     "text": [
      "\n",
      "🎥 Enter a movie name (or type 'exit' to quit):  Aquman\n",
      "\n",
      "🎥 Enter a movie name (or type 'exit' to quit):  aqaman\n",
      "\n",
      "🎥 Enter a movie name (or type 'exit' to quit):  Fast and Furious\n"
     ]
    },
    {
     "name": "stdout",
     "output_type": "stream",
     "text": [
      "🎬 Closest match found: Fast and the Furious, The (2001)\n",
      "\n",
      "📌 Top 10 movies similar to 'Fast and the Furious, The (2001)':\n",
      "1. Gone in 60 Seconds (2000) (Score: 0.55)\n",
      "2. Lara Croft: Tomb Raider (2001) (Score: 0.54)\n",
      "3. Training Day (2001) (Score: 0.54)\n",
      "4. Final Fantasy: The Spirits Within (2001) (Score: 0.52)\n",
      "5. 2 Fast 2 Furious (Fast and the Furious 2, The) (2003) (Score: 0.52)\n",
      "6. Rundown, The (2003) (Score: 0.51)\n",
      "7. American Pie 2 (2001) (Score: 0.50)\n",
      "8. Black Hawk Down (2001) (Score: 0.50)\n",
      "9. Dodgeball: A True Underdog Story (2004) (Score: 0.49)\n",
      "10. Knight's Tale, A (2001) (Score: 0.48)\n"
     ]
    },
    {
     "name": "stdin",
     "output_type": "stream",
     "text": [
      "\n",
      "🎥 Enter a movie name (or type 'exit' to quit):  exit\n"
     ]
    },
    {
     "name": "stdout",
     "output_type": "stream",
     "text": [
      "👋 Exiting the recommender. Have a great day!\n"
     ]
    }
   ],
   "source": [
    "\n",
    "while True:\n",
    "    user_input = input(\"\\n🎥 Enter a movie name (or type 'exit' to quit): \").strip()\n",
    "    if user_input.lower() == 'exit':\n",
    "        print(\"👋 Exiting the recommender. Have a great day!\")\n",
    "        break\n",
    "    recommend_movies(user_input, k=10)\n"
   ]
  },
  {
   "cell_type": "code",
   "execution_count": null,
   "id": "7f6a35dd-3362-44a6-9bc6-d98d618eaef5",
   "metadata": {},
   "outputs": [],
   "source": []
  }
 ],
 "metadata": {
  "kernelspec": {
   "display_name": "Python 3 (ipykernel)",
   "language": "python",
   "name": "python3"
  },
  "language_info": {
   "codemirror_mode": {
    "name": "ipython",
    "version": 3
   },
   "file_extension": ".py",
   "mimetype": "text/x-python",
   "name": "python",
   "nbconvert_exporter": "python",
   "pygments_lexer": "ipython3",
   "version": "3.12.4"
  }
 },
 "nbformat": 4,
 "nbformat_minor": 5
}
